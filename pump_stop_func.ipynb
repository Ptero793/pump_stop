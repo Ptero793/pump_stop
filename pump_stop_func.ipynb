{
 "cells": [
  {
   "cell_type": "code",
   "execution_count": 103,
   "metadata": {},
   "outputs": [],
   "source": [
    "import numpy as np\n",
    "import pandas as pd\n",
    "import datetime as dt"
   ]
  },
  {
   "cell_type": "code",
   "execution_count": null,
   "metadata": {},
   "outputs": [],
   "source": [
    "dt."
   ]
  },
  {
   "cell_type": "code",
   "execution_count": 95,
   "metadata": {},
   "outputs": [],
   "source": [
    "def calculate_end(today=0,expiration=180,existing_supply =0,daily_produce=45,daily_consume=32,end_date = 364,buffer=7,pump_stop=364):\n",
    "    total_produce = 0\n",
    "    total_consume = 0\n",
    "    existing_supply = existing_supply\n",
    "    end_date = end_date\n",
    "    daily_consume = daily_consume\n",
    "    daily_produce = daily_produce\n",
    "    end_date = end_date\n",
    "    while today < pump_stop:\n",
    "        days_remaining = end_date - today\n",
    "        total_produce += daily_produce \n",
    "        total_consume += daily_consume\n",
    "        total_req = days_remaining*daily_consume\n",
    "        usable_supply = total_produce - total_consume + existing_supply\n",
    "        days_supply = usable_supply/daily_consume\n",
    "        pump_stop = end_date - days_supply\n",
    "        if today %5 ==0:\n",
    "            print('total_produced: '+str(total_produce)+ '\\n total_consumed: '+str(total_consume)+'\\n usable_supply: '+str(usable_supply)+'\\n today: '+str(today)+'\\n pump_stop: '+str(pump_stop))\n",
    "        today +=1\n",
    "    return 'Final Pump Stop date: '+str(round(pump_stop,0))"
   ]
  },
  {
   "cell_type": "code",
   "execution_count": 86,
   "metadata": {},
   "outputs": [],
   "source": [
    "new =364 -13/32"
   ]
  },
  {
   "cell_type": "code",
   "execution_count": null,
   "metadata": {},
   "outputs": [],
   "source": []
  },
  {
   "cell_type": "code",
   "execution_count": 100,
   "metadata": {},
   "outputs": [
    {
     "name": "stdout",
     "output_type": "stream",
     "text": [
      "total_produced: 45\n",
      " total_consumed: 32\n",
      " usable_supply: 2013\n",
      " today: 180\n",
      " pump_stop: 301.09375\n",
      "total_produced: 270\n",
      " total_consumed: 192\n",
      " usable_supply: 2078\n",
      " today: 185\n",
      " pump_stop: 299.0625\n",
      "total_produced: 495\n",
      " total_consumed: 352\n",
      " usable_supply: 2143\n",
      " today: 190\n",
      " pump_stop: 297.03125\n",
      "total_produced: 720\n",
      " total_consumed: 512\n",
      " usable_supply: 2208\n",
      " today: 195\n",
      " pump_stop: 295.0\n",
      "total_produced: 945\n",
      " total_consumed: 672\n",
      " usable_supply: 2273\n",
      " today: 200\n",
      " pump_stop: 292.96875\n",
      "total_produced: 1170\n",
      " total_consumed: 832\n",
      " usable_supply: 2338\n",
      " today: 205\n",
      " pump_stop: 290.9375\n",
      "total_produced: 1395\n",
      " total_consumed: 992\n",
      " usable_supply: 2403\n",
      " today: 210\n",
      " pump_stop: 288.90625\n",
      "total_produced: 1620\n",
      " total_consumed: 1152\n",
      " usable_supply: 2468\n",
      " today: 215\n",
      " pump_stop: 286.875\n",
      "total_produced: 1845\n",
      " total_consumed: 1312\n",
      " usable_supply: 2533\n",
      " today: 220\n",
      " pump_stop: 284.84375\n",
      "total_produced: 2070\n",
      " total_consumed: 1472\n",
      " usable_supply: 2598\n",
      " today: 225\n",
      " pump_stop: 282.8125\n",
      "total_produced: 2295\n",
      " total_consumed: 1632\n",
      " usable_supply: 2663\n",
      " today: 230\n",
      " pump_stop: 280.78125\n",
      "total_produced: 2520\n",
      " total_consumed: 1792\n",
      " usable_supply: 2728\n",
      " today: 235\n",
      " pump_stop: 278.75\n",
      "total_produced: 2745\n",
      " total_consumed: 1952\n",
      " usable_supply: 2793\n",
      " today: 240\n",
      " pump_stop: 276.71875\n",
      "total_produced: 2970\n",
      " total_consumed: 2112\n",
      " usable_supply: 2858\n",
      " today: 245\n",
      " pump_stop: 274.6875\n",
      "total_produced: 3195\n",
      " total_consumed: 2272\n",
      " usable_supply: 2923\n",
      " today: 250\n",
      " pump_stop: 272.65625\n",
      "total_produced: 3420\n",
      " total_consumed: 2432\n",
      " usable_supply: 2988\n",
      " today: 255\n",
      " pump_stop: 270.625\n",
      "total_produced: 3645\n",
      " total_consumed: 2592\n",
      " usable_supply: 3053\n",
      " today: 260\n",
      " pump_stop: 268.59375\n",
      "total_produced: 3870\n",
      " total_consumed: 2752\n",
      " usable_supply: 3118\n",
      " today: 265\n",
      " pump_stop: 266.5625\n"
     ]
    },
    {
     "data": {
      "text/plain": [
       "'Final Pump Stop date: 266.0'"
      ]
     },
     "execution_count": 100,
     "metadata": {},
     "output_type": "execute_result"
    }
   ],
   "source": [
    "calculate_end(today=180,existing_supply=2000)"
   ]
  },
  {
   "cell_type": "code",
   "execution_count": 99,
   "metadata": {},
   "outputs": [
    {
     "data": {
      "text/plain": [
       "120"
      ]
     },
     "execution_count": 99,
     "metadata": {},
     "output_type": "execute_result"
    }
   ],
   "source": [
    "244 + "
   ]
  },
  {
   "cell_type": "code",
   "execution_count": null,
   "metadata": {},
   "outputs": [],
   "source": []
  }
 ],
 "metadata": {
  "kernelspec": {
   "display_name": "Python 3",
   "language": "python",
   "name": "python3"
  },
  "language_info": {
   "codemirror_mode": {
    "name": "ipython",
    "version": 3
   },
   "file_extension": ".py",
   "mimetype": "text/x-python",
   "name": "python",
   "nbconvert_exporter": "python",
   "pygments_lexer": "ipython3",
   "version": "3.8.1"
  }
 },
 "nbformat": 4,
 "nbformat_minor": 4
}
